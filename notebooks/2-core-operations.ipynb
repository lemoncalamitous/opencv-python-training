{
 "cells": [
  {
   "cell_type": "code",
   "execution_count": 1,
   "metadata": {
    "collapsed": true
   },
   "outputs": [],
   "source": [
    "import cv2\n",
    "import numpy as np"
   ]
  },
  {
   "cell_type": "code",
   "execution_count": 2,
   "metadata": {},
   "outputs": [],
   "source": [
    "# Crop an image\n",
    "def crop_image(image):\n",
    "    cv2.namedWindow('Image', cv2.WINDOW_NORMAL)\n",
    "    cropped_image = image[302:(302+322), 261:(261+339)]\n",
    "    show_image(cropped_image)\n",
    "\n",
    "# Display an image\n",
    "def show_image(image):\n",
    "    cv2.imshow('Image', image)\n",
    "    cv2.waitKey(0)\n",
    "    cv2.destroyAllWindows()"
   ]
  },
  {
   "cell_type": "code",
   "execution_count": 3,
   "metadata": {
    "collapsed": true
   },
   "outputs": [],
   "source": [
    "bernie = cv2.imread('../assets/bernie.jpg', cv2.IMREAD_COLOR)\n",
    "\n",
    "show_image(bernie)"
   ]
  },
  {
   "cell_type": "code",
   "execution_count": 4,
   "metadata": {},
   "outputs": [
    {
     "name": "stdout",
     "output_type": "stream",
     "text": [
      "(1182, 1000, 3)\n",
      "3546000\n",
      "uint8\n"
     ]
    }
   ],
   "source": [
    "# Print image properties\n",
    "print(bernie.shape)\n",
    "print(bernie.size)\n",
    "print(bernie.dtype)"
   ]
  },
  {
   "cell_type": "code",
   "execution_count": 5,
   "metadata": {
    "collapsed": true
   },
   "outputs": [],
   "source": [
    "# Display an array of BGR pixel\n",
    "pixel = 0\n",
    "\n",
    "show_image(pixel)"
   ]
  },
  {
   "cell_type": "code",
   "execution_count": 6,
   "metadata": {
    "collapsed": true
   },
   "outputs": [],
   "source": [
    "# Get a cropped image\n",
    "bernie = cv2.imread('../assets/bernie.jpg', cv2.IMREAD_COLOR)\n",
    "cropped_image = bernie[302:(302+322), 261:(261+339)]\n",
    "\n",
    "show_image(cropped_image)"
   ]
  },
  {
   "cell_type": "code",
   "execution_count": 7,
   "metadata": {
    "collapsed": true
   },
   "outputs": [],
   "source": [
    "# Modify a cropped image\n",
    "bernie = cv2.imread('../assets/bernie.jpg', cv2.IMREAD_COLOR)\n",
    "modified_image = bernie[302:(302+322), 261:(261+339)]\n",
    "modified_image[:, :, 0] = 123\n",
    "\n",
    "show_image(modified_image)"
   ]
  },
  {
   "cell_type": "code",
   "execution_count": 8,
   "metadata": {
    "collapsed": true
   },
   "outputs": [],
   "source": [
    "# Slice a part of image\n",
    "bernie = cv2.imread('../assets/bernie.jpg', cv2.IMREAD_COLOR)\n",
    "bernie[302:(302+322), 261:(261+339)] = 255\n",
    "\n",
    "show_image(bernie)"
   ]
  },
  {
   "cell_type": "code",
   "execution_count": 9,
   "metadata": {},
   "outputs": [
    {
     "name": "stdout",
     "output_type": "stream",
     "text": [
      "(219, 373, 393, 258)\n"
     ]
    }
   ],
   "source": [
    "# Select a region from a picture using ROI Selector\n",
    "image = cv2.imread('../assets/bernie.jpg', cv2.IMREAD_COLOR)\n",
    "\n",
    "from_center = False\n",
    "region = cv2.selectROI(image, from_center)\n",
    "cv2.waitKey(0)\n",
    "cv2.destroyAllWindows()\n",
    "print(region)"
   ]
  },
  {
   "cell_type": "code",
   "execution_count": 10,
   "metadata": {},
   "outputs": [],
   "source": [
    "# Display a cropped image from ROI Selector\n",
    "cropped_image = image[region[1]:(region[1]+region[3]), region[0]:(region[0]+region[2])]\n",
    "\n",
    "show_image(cropped_image)"
   ]
  },
  {
   "cell_type": "code",
   "execution_count": 11,
   "metadata": {
    "collapsed": true
   },
   "outputs": [],
   "source": [
    "# Convert image to grayscale\n",
    "bernie = cv2.imread('../assets/bernie.jpg', cv2.IMREAD_COLOR)\n",
    "grayscale_bernie = cv2.cvtColor(bernie, cv2.COLOR_BGR2GRAY)\n",
    "\n",
    "show_image(grayscale_bernie)"
   ]
  },
  {
   "cell_type": "code",
   "execution_count": 12,
   "metadata": {},
   "outputs": [],
   "source": [
    "# Convert image to grayscale from the very beginning\n",
    "bernie = cv2.imread('../assets/bernie.jpg', cv2.IMREAD_GRAYSCALE)\n",
    "\n",
    "show_image(bernie)"
   ]
  },
  {
   "cell_type": "code",
   "execution_count": 13,
   "metadata": {},
   "outputs": [],
   "source": [
    "# Convert image to avatar\n",
    "bernie = cv2.imread('../assets/bernie.jpg', cv2.IMREAD_COLOR)\n",
    "bernie2 = cv2.cvtColor(bernie, cv2.COLOR_BGR2RGB)\n",
    "\n",
    "show_image(bernie2)"
   ]
  },
  {
   "cell_type": "code",
   "execution_count": 14,
   "metadata": {
    "collapsed": true
   },
   "outputs": [],
   "source": [
    "# Convert image to HSV\n",
    "bernie = cv2.imread('../assets/bernie.jpg', cv2.IMREAD_COLOR)\n",
    "bernie2 = cv2.cvtColor(bernie, cv2.COLOR_BGR2HSV)\n",
    "\n",
    "show_image(bernie2)"
   ]
  },
  {
   "cell_type": "code",
   "execution_count": 15,
   "metadata": {
    "collapsed": true
   },
   "outputs": [],
   "source": [
    "# Add two images in one (Same Channel, Same Resolution)\n",
    "bernie = cv2.imread('../assets/bernie.jpg')\n",
    "howie = cv2.imread('../assets/howie.png')\n",
    "\n",
    "sum_image = cv2.add(bernie, howie)\n",
    "show_image(sum_image)"
   ]
  },
  {
   "cell_type": "code",
   "execution_count": 16,
   "metadata": {
    "collapsed": true
   },
   "outputs": [],
   "source": [
    "# Blend two images in one (Same Channel, Same Resolution)\n",
    "bernie = cv2.imread('../assets/bernie.jpg')\n",
    "howie = cv2.imread('../assets/howie.png')\n",
    "\n",
    "blended_image = cv2.addWeighted(bernie, 0.8, howie, 0.2, 0)\n",
    "show_image(blended_image)"
   ]
  },
  {
   "cell_type": "code",
   "execution_count": 17,
   "metadata": {},
   "outputs": [
    {
     "name": "stdout",
     "output_type": "stream",
     "text": [
      "(823, 638, 3)\n",
      "(159, 159, 3)\n"
     ]
    }
   ],
   "source": [
    "# Bitwise operation\n",
    "\n",
    "# Resize image\n",
    "bigbang_logo = cv2.imread('../assets/big-bang.jpg')\n",
    "print(bigbang_logo.shape)\n",
    "\n",
    "bigbang_reduced = cv2.resize(bigbang_logo, (int(bigbang_logo.shape[1] * 0.25), int(bigbang_logo.shape[1] * 0.25)))\n",
    "print(bigbang_reduced.shape)"
   ]
  },
  {
   "cell_type": "code",
   "execution_count": 18,
   "metadata": {
    "collapsed": true
   },
   "outputs": [],
   "source": [
    "# Get reduced logo properties\n",
    "rows, cols, channels = bigbang_reduced.shape"
   ]
  },
  {
   "cell_type": "code",
   "execution_count": 19,
   "metadata": {
    "collapsed": true
   },
   "outputs": [],
   "source": [
    "# Select base image's top corner\n",
    "roi = bernie[0:rows, 0:cols]\n",
    "\n",
    "show_image(roi)"
   ]
  },
  {
   "cell_type": "code",
   "execution_count": 20,
   "metadata": {},
   "outputs": [],
   "source": [
    "# Create a mask of the logo, convert to grayscale, then use threshholding\n",
    "bigbang_gray = cv2.cvtColor(bigbang_reduced, cv2.COLOR_BGR2GRAY)\n",
    "\n",
    "ret, mask = cv2.threshold(bigbang_gray, 220, 255, cv2.THRESH_BINARY_INV)\n",
    "\n",
    "show_image(mask)"
   ]
  },
  {
   "cell_type": "code",
   "execution_count": 21,
   "metadata": {
    "collapsed": true
   },
   "outputs": [],
   "source": [
    "# Create inverse mask\n",
    "mask_inverse = cv2.bitwise_not(mask)\n",
    "\n",
    "show_image(mask_inverse)"
   ]
  },
  {
   "cell_type": "code",
   "execution_count": 22,
   "metadata": {
    "collapsed": true
   },
   "outputs": [],
   "source": [
    "# Black out the area of logo in ROI\n",
    "bernie_bg = cv2.bitwise_and(roi, roi, mask=mask_inverse)\n",
    "\n",
    "show_image(bernie_bg)"
   ]
  },
  {
   "cell_type": "code",
   "execution_count": 23,
   "metadata": {},
   "outputs": [],
   "source": [
    "# Take the region of the logo from logo image\n",
    "bigbang_fg = cv2.bitwise_and(bigbang_reduced, bigbang_reduced, mask=mask)\n",
    "\n",
    "show_image(bigbang_fg)"
   ]
  },
  {
   "cell_type": "code",
   "execution_count": 24,
   "metadata": {
    "collapsed": true
   },
   "outputs": [],
   "source": [
    "# Display the final image\n",
    "dst = cv2.add(bernie_bg, bigbang_fg)\n",
    "bernie[0:rows, 0:cols] = dst\n",
    "\n",
    "show_image(bernie)"
   ]
  },
  {
   "cell_type": "code",
   "execution_count": 27,
   "metadata": {},
   "outputs": [
    {
     "data": {
      "text/plain": [
       "True"
      ]
     },
     "execution_count": 27,
     "metadata": {},
     "output_type": "execute_result"
    }
   ],
   "source": [
    "# Activity: Photo of yourself with ACN logo\n",
    "\n",
    "raymond = cv2.imread('../assets/raymond.jpg')\n",
    "raymond = cv2.resize(raymond, (int(raymond.shape[1] * 0.25), int(raymond.shape[1] * 0.32)))\n",
    "\n",
    "accenture_logo = cv2.imread('../assets/accenture.png')\n",
    "accenture_reduced = cv2.resize(accenture_logo, (int(accenture_logo.shape[1] * 0.4), int(accenture_logo.shape[1] * 0.11)))\n",
    "rows, cols, channels = accenture_reduced.shape\n",
    "roi = raymond[0:rows, 0:cols]\n",
    "accenture_gray = cv2.cvtColor(accenture_reduced, cv2.COLOR_BGR2GRAY)\n",
    "ret, mask = cv2.threshold(accenture_gray, 220, 255, cv2.THRESH_BINARY_INV)\n",
    "mask_inverse = cv2.bitwise_not(mask)\n",
    "raymond_bg = cv2.bitwise_and(roi, roi, mask=mask_inverse)\n",
    "accenture_fg = cv2.bitwise_and(accenture_reduced, accenture_reduced, mask=mask)\n",
    "dst = cv2.add(raymond_bg, accenture_fg)\n",
    "raymond[0:rows, 0:cols] = dst\n",
    "\n",
    "show_image(raymond)\n",
    "cv2.imwrite('abargos-raymond.jpg', raymond)"
   ]
  },
  {
   "cell_type": "code",
   "execution_count": 28,
   "metadata": {},
   "outputs": [],
   "source": [
    "# Activity: Blend an image to a video stream / webcam\n",
    "accenture_logo = cv2.imread('../assets/accenture.png')\n",
    "accenture_reduced = cv2.resize(accenture_logo, (int(accenture_logo.shape[1] * 0.4), int(accenture_logo.shape[1] * 0.11)))\n",
    "accenture_gray = cv2.cvtColor(accenture_reduced, cv2.COLOR_BGR2GRAY)\n",
    "ret, mask = cv2.threshold(accenture_gray, 220, 255, cv2.THRESH_BINARY_INV)\n",
    "mask_inverse = cv2.bitwise_not(mask)\n",
    "accenture_fg = cv2.bitwise_and(accenture_reduced, accenture_reduced, mask=mask)\n",
    "\n",
    "cap = cv2.VideoCapture(0)\n",
    "\n",
    "while True:\n",
    "    ret, frame = cap.read()\n",
    "    roi = frame[0:rows, 0:cols]\n",
    "    frame_bg = cv2.bitwise_and(roi, roi, mask=mask_inverse)\n",
    "    dst = cv2.add(frame_bg, accenture_fg)\n",
    "    frame[0:rows, 0:cols] = dst\n",
    "    cv2.imshow('Frame', frame)\n",
    "\n",
    "    if cv2.waitKey(1) == 27:\n",
    "        break\n",
    "\n",
    "cap.release()\n",
    "cv2.destroyAllWindows()"
   ]
  },
  {
   "cell_type": "code",
   "execution_count": 29,
   "metadata": {},
   "outputs": [
    {
     "name": "stdout",
     "output_type": "stream",
     "text": [
      "Help on built-in function split:\n",
      "\n",
      "split(...)\n",
      "    split(m[, mv]) -> mv\n",
      "    .   @overload\n",
      "    .   @param m input multi-channel array.\n",
      "    .   @param mv output vector of arrays; the arrays themselves are reallocated, if needed.\n",
      "\n"
     ]
    }
   ],
   "source": [
    "bernie = cv2.imread('../assets/bernie.jpg')\n",
    "\n",
    "# Blue channel\n",
    "blue = bernie[:, :, 0]\n",
    "\n",
    "# Green channel\n",
    "blue = bernie[:, :, 0]\n",
    "\n",
    "# Red channel\n",
    "blue = bernie[:, :, 0]"
   ]
  }
 ],
 "metadata": {
  "kernelspec": {
   "display_name": "Python 3",
   "language": "python",
   "name": "python3"
  },
  "language_info": {
   "codemirror_mode": {
    "name": "ipython",
    "version": 3
   },
   "file_extension": ".py",
   "mimetype": "text/x-python",
   "name": "python",
   "nbconvert_exporter": "python",
   "pygments_lexer": "ipython3",
   "version": "3.6.3"
  }
 },
 "nbformat": 4,
 "nbformat_minor": 2
}
