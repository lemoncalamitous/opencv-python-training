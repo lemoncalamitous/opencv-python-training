{
 "cells": [
  {
   "cell_type": "code",
   "execution_count": 1,
   "metadata": {
    "collapsed": true
   },
   "outputs": [],
   "source": [
    "import cv2\n",
    "import numpy as np"
   ]
  },
  {
   "cell_type": "code",
   "execution_count": 2,
   "metadata": {},
   "outputs": [
    {
     "data": {
      "text/plain": [
       "(1000, 2000)"
      ]
     },
     "execution_count": 2,
     "metadata": {},
     "output_type": "execute_result"
    }
   ],
   "source": [
    "# Load the MNIST image\n",
    "mnist = cv2.imread('../datasets/digits.png', 0)\n",
    "\n",
    "mnist.shape"
   ]
  },
  {
   "cell_type": "code",
   "execution_count": 3,
   "metadata": {},
   "outputs": [],
   "source": [
    "# Split the images by equal 50 x 100\n",
    "images = [np.hsplit(row, 100) for row in np.vsplit(mnist, 50)]\n",
    "images = np.array(images, dtype=np.float32)"
   ]
  },
  {
   "cell_type": "code",
   "execution_count": 4,
   "metadata": {},
   "outputs": [
    {
     "data": {
      "text/plain": [
       "(50, 100, 20, 20)"
      ]
     },
     "execution_count": 4,
     "metadata": {},
     "output_type": "execute_result"
    }
   ],
   "source": [
    "images.shape"
   ]
  },
  {
   "cell_type": "code",
   "execution_count": 5,
   "metadata": {
    "collapsed": true
   },
   "outputs": [],
   "source": [
    "# Split the images into 50/50 train/test set\n",
    "train_features = images[:, :50].reshape(-1, (20 * 20))\n",
    "test_features = images[:, 50:100].reshape(-1, (20 * 20))"
   ]
  },
  {
   "cell_type": "code",
   "execution_count": 6,
   "metadata": {
    "collapsed": true
   },
   "outputs": [],
   "source": [
    "# Create labels\n",
    "k = np.arange(10)\n",
    "train_labels = np.repeat(k, 250).reshape(-1, 1)\n",
    "test_labels = train_labels.copy()"
   ]
  },
  {
   "cell_type": "code",
   "execution_count": 7,
   "metadata": {},
   "outputs": [
    {
     "data": {
      "text/plain": [
       "True"
      ]
     },
     "execution_count": 7,
     "metadata": {},
     "output_type": "execute_result"
    }
   ],
   "source": [
    "# Create kNN model\n",
    "knn = cv2.ml.KNearest_create()\n",
    "knn.train(train_features, cv2.ml.ROW_SAMPLE, train_labels)"
   ]
  },
  {
   "cell_type": "code",
   "execution_count": 8,
   "metadata": {
    "collapsed": true
   },
   "outputs": [],
   "source": [
    "# Classify test results, use k = 3\n",
    "ret, result, neighbors, dist = knn.findNearest(test_features, 3)"
   ]
  },
  {
   "cell_type": "code",
   "execution_count": 9,
   "metadata": {},
   "outputs": [
    {
     "name": "stdout",
     "output_type": "stream",
     "text": [
      "Acccuracy: 91.64\n"
     ]
    }
   ],
   "source": [
    "# Measure model accuracy\n",
    "matches = np.equal(result, test_labels)\n",
    "\n",
    "# Convert boolean to int\n",
    "matches = matches.astype(np.int)\n",
    "\n",
    "# Count the correct predictions\n",
    "correct = np.count_nonzero(matches)\n",
    "\n",
    "# Calculate the accuracy\n",
    "accuracy = (correct * 100.0) / result.size\n",
    "\n",
    "# Print the accuracy\n",
    "print(\"Acccuracy: {}\".format(accuracy))"
   ]
  },
  {
   "cell_type": "code",
   "execution_count": 10,
   "metadata": {
    "collapsed": true
   },
   "outputs": [],
   "source": [
    "# Activity: Use Fashion MNIST image\n",
    "# Load the MNIST Fashion image\n",
    "fashion = cv2.imread('../datasets/fashion.png', 0)\n",
    "\n",
    "# Split the images by equal 30 x 30\n",
    "images = [np.hsplit(row, 30) for row in np.vsplit(fashion, 30)]\n",
    "images = np.array(images, dtype=np.float32)"
   ]
  },
  {
   "cell_type": "code",
   "execution_count": 11,
   "metadata": {},
   "outputs": [
    {
     "data": {
      "text/plain": [
       "(30, 30, 28, 28)"
      ]
     },
     "execution_count": 11,
     "metadata": {},
     "output_type": "execute_result"
    }
   ],
   "source": [
    "images.shape"
   ]
  },
  {
   "cell_type": "code",
   "execution_count": 12,
   "metadata": {},
   "outputs": [
    {
     "name": "stdout",
     "output_type": "stream",
     "text": [
      "Acccuracy: 70.88888888888889\n"
     ]
    }
   ],
   "source": [
    "# Split the images into 50/50 train/test set\n",
    "train_features = images[:, :15].reshape(-1, (28 * 28))\n",
    "test_features = images[:, 15:30].reshape(-1, (28 * 28))\n",
    "\n",
    "# Create labels\n",
    "k = np.arange(10)\n",
    "train_labels = np.repeat(k, 45).reshape(-1, 1)\n",
    "test_labels = train_labels.copy()\n",
    "\n",
    "# Create kNN model\n",
    "knn = cv2.ml.KNearest_create()\n",
    "knn.train(train_features, cv2.ml.ROW_SAMPLE, train_labels)\n",
    "\n",
    "# Classify test results, use k = 2\n",
    "ret, result, neighbors, dist = knn.findNearest(test_features, 3)\n",
    "\n",
    "# Measure model accuracy\n",
    "matches = np.equal(result, test_labels)\n",
    "\n",
    "# Convert boolean to int\n",
    "matches = matches.astype(np.int)\n",
    "\n",
    "# Count the correct predictions\n",
    "correct = np.count_nonzero(matches)\n",
    "\n",
    "# Calculate the accuracy\n",
    "accuracy = (correct * 100.0) / result.size\n",
    "\n",
    "# Print the accuracy\n",
    "print(\"Acccuracy: {}\".format(accuracy))"
   ]
  },
  {
   "cell_type": "code",
   "execution_count": 13,
   "metadata": {},
   "outputs": [
    {
     "data": {
      "image/png": "[encoded data removed]",
      "text/plain": [
       "<matplotlib.figure.Figure at 0x1d4bb34c0b8>"
      ]
     },
     "metadata": {},
     "output_type": "display_data"
    }
   ],
   "source": [
    "import matplotlib.pyplot as plt\n",
    "plt.imshow(images[0,0], cmap='gray')\n",
    "plt.show()"
   ]
  },
  {
   "cell_type": "code",
   "execution_count": 16,
   "metadata": {},
   "outputs": [
    {
     "name": "stdout",
     "output_type": "stream",
     "text": [
      "Acccuracy: 90.44\n"
     ]
    }
   ],
   "source": [
    "# Use SVM on MNIST Image\n",
    "# Load the MNIST image\n",
    "mnist = cv2.imread('../datasets/digits.png', 0)\n",
    "\n",
    "# Split the images by equal 50 x 100\n",
    "images = [np.hsplit(row, 100) for row in np.vsplit(mnist, 50)]\n",
    "images = np.array(images, dtype=np.float32)\n",
    "\n",
    "# Split the images into 50/50 train/test set\n",
    "train_features = images[:, :50].reshape(-1, (20 * 20))\n",
    "test_features = images[:, 50:100].reshape(-1, (20 * 20))\n",
    "\n",
    "# Create labels\n",
    "k = np.arange(10)\n",
    "train_labels = np.repeat(k, 250).reshape(-1, 1)\n",
    "test_labels = train_labels.copy()\n",
    "\n",
    "# Create SVM model\n",
    "model = cv2.ml.SVM_create()\n",
    "model.setKernel(cv2.ml.SVM_LINEAR)\n",
    "model.setC(2.67)\n",
    "model.setGamma(5.383)\n",
    "model.setType(cv2.ml.SVM_C_SVC)\n",
    "\n",
    "# Train the model\n",
    "model.train(train_features, cv2.ml.ROW_SAMPLE, train_labels)\n",
    "\n",
    "# Use trained SVM\n",
    "result = model.predict(test_features)\n",
    "\n",
    "# print(result)\n",
    "# print(test_labels)\n",
    "\n",
    "# Measure model accuracy\n",
    "matches = np.equal(result[1], test_labels)\n",
    "\n",
    "# Convert boolean to int\n",
    "matches = matches.astype(np.int)\n",
    "\n",
    "# Count the correct predictions\n",
    "correct = np.count_nonzero(matches)\n",
    "\n",
    "# Calculate the accuracy\n",
    "accuracy = (correct * 100.0) / result[1].size\n",
    "\n",
    "# Print the accuracy\n",
    "print(\"Acccuracy: {}\".format(accuracy))"
   ]
  },
  {
   "cell_type": "code",
   "execution_count": 17,
   "metadata": {},
   "outputs": [
    {
     "name": "stdout",
     "output_type": "stream",
     "text": [
      "Acccuracy: 74.66666666666667\n"
     ]
    }
   ],
   "source": [
    "# Activity: Use Fashion MNIST image, using SVM\n",
    "# Load the MNIST Fashion image\n",
    "fashion = cv2.imread('../datasets/fashion.png', 0)\n",
    "\n",
    "# Split the images by equal 30 x 30\n",
    "images = [np.hsplit(row, 30) for row in np.vsplit(fashion, 30)]\n",
    "images = np.array(images, dtype=np.float32)\n",
    "\n",
    "# Split the images into 50/50 train/test set\n",
    "train_features = images[:, :15].reshape(-1, (28 * 28))\n",
    "test_features = images[:, 15:30].reshape(-1, (28 * 28))\n",
    "\n",
    "# Create labels\n",
    "k = np.arange(10)\n",
    "train_labels = np.repeat(k, 45).reshape(-1, 1)\n",
    "test_labels = train_labels.copy()\n",
    "\n",
    "# Create SVM model\n",
    "model = cv2.ml.SVM_create()\n",
    "model.setKernel(cv2.ml.SVM_LINEAR)\n",
    "model.setC(2.67)\n",
    "model.setGamma(5.383)\n",
    "model.setType(cv2.ml.SVM_C_SVC)\n",
    "\n",
    "# Train the model\n",
    "model.train(train_features, cv2.ml.ROW_SAMPLE, train_labels)\n",
    "\n",
    "# Use trained SVM\n",
    "result = model.predict(test_features)\n",
    "\n",
    "# Measure model accuracy\n",
    "matches = np.equal(result[1], test_labels)\n",
    "\n",
    "# Convert boolean to int\n",
    "matches = matches.astype(np.int)\n",
    "\n",
    "# Count the correct predictions\n",
    "correct = np.count_nonzero(matches)\n",
    "\n",
    "# Calculate the accuracy\n",
    "accuracy = (correct * 100.0) / result[1].size\n",
    "\n",
    "# Print the accuracy\n",
    "print(\"Acccuracy: {}\".format(accuracy))"
   ]
  },
  {
   "cell_type": "markdown",
   "metadata": {},
   "source": [
    "# Mean Normalization\n",
    "Use normalization if:\n",
    "- mean of data frame is not approaching zero\n",
    "- standard deviation is not approaching one"
   ]
  },
  {
   "cell_type": "code",
   "execution_count": 21,
   "metadata": {},
   "outputs": [
    {
     "name": "stdout",
     "output_type": "stream",
     "text": [
      "Acccuracy: 79.24\n"
     ]
    }
   ],
   "source": [
    "# Mean normalization: MNIST - kNN\n",
    "# Load the MNIST image\n",
    "mnist = cv2.imread('../datasets/digits.png', 0)\n",
    "\n",
    "# Split the images by equal 50 x 100\n",
    "images = [np.hsplit(row, 100) for row in np.vsplit(mnist, 50)]\n",
    "images = np.array(images, dtype=np.float32)\n",
    "\n",
    "# Split the images into 50/50 train/test set\n",
    "train_features = images[:, :50].reshape(-1, (20 * 20))\n",
    "test_features = images[:, 50:100].reshape(-1, (20 * 20))\n",
    "\n",
    "# Mean normalization\n",
    "train_features -= np.mean(train_features, axis=0)\n",
    "test_features -= np.mean(train_features, axis=0)\n",
    "\n",
    "# Create labels\n",
    "k = np.arange(10)\n",
    "train_labels = np.repeat(k, 250).reshape(-1, 1)\n",
    "test_labels = train_labels.copy()\n",
    "\n",
    "# Create kNN model\n",
    "knn = cv2.ml.KNearest_create()\n",
    "knn.train(train_features, cv2.ml.ROW_SAMPLE, train_labels)\n",
    "\n",
    "# Classify test results, use k = 3\n",
    "ret, result, neighbors, dist = knn.findNearest(test_features, 3)\n",
    "\n",
    "# Measure model accuracy\n",
    "matches = np.equal(result, test_labels)\n",
    "\n",
    "# Convert boolean to int\n",
    "matches = matches.astype(np.int)\n",
    "\n",
    "# Count the correct predictions\n",
    "correct = np.count_nonzero(matches)\n",
    "\n",
    "# Calculate the accuracy\n",
    "accuracy = (correct * 100.0) / result.size\n",
    "\n",
    "# Print the accuracy\n",
    "print(\"Acccuracy: {}\".format(accuracy))"
   ]
  },
  {
   "cell_type": "code",
   "execution_count": 22,
   "metadata": {},
   "outputs": [
    {
     "name": "stdout",
     "output_type": "stream",
     "text": [
      "Acccuracy: 52.0\n"
     ]
    }
   ],
   "source": [
    "# Mean normalization: MNIST Fashion - kNN\n",
    "# Load the MNIST Fashion image\n",
    "fashion = cv2.imread('../datasets/fashion.png', 0)\n",
    "\n",
    "# Split the images by equal 30 x 30\n",
    "images = [np.hsplit(row, 30) for row in np.vsplit(fashion, 30)]\n",
    "images = np.array(images, dtype=np.float32)\n",
    "\n",
    "# Split the images into 50/50 train/test set\n",
    "train_features = images[:, :15].reshape(-1, (28 * 28))\n",
    "test_features = images[:, 15:30].reshape(-1, (28 * 28))\n",
    "\n",
    "# Mean normalization\n",
    "train_features -= np.mean(train_features, axis=0)\n",
    "test_features -= np.mean(train_features, axis=0)\n",
    "\n",
    "# Create labels\n",
    "k = np.arange(10)\n",
    "train_labels = np.repeat(k, 45).reshape(-1, 1)\n",
    "test_labels = train_labels.copy()\n",
    "\n",
    "# Create kNN model\n",
    "knn = cv2.ml.KNearest_create()\n",
    "knn.train(train_features, cv2.ml.ROW_SAMPLE, train_labels)\n",
    "\n",
    "# Classify test results, use k = 2\n",
    "ret, result, neighbors, dist = knn.findNearest(test_features, 3)\n",
    "\n",
    "# Measure model accuracy\n",
    "matches = np.equal(result, test_labels)\n",
    "\n",
    "# Convert boolean to int\n",
    "matches = matches.astype(np.int)\n",
    "\n",
    "# Count the correct predictions\n",
    "correct = np.count_nonzero(matches)\n",
    "\n",
    "# Calculate the accuracy\n",
    "accuracy = (correct * 100.0) / result.size\n",
    "\n",
    "# Print the accuracy\n",
    "print(\"Acccuracy: {}\".format(accuracy))"
   ]
  },
  {
   "cell_type": "code",
   "execution_count": 23,
   "metadata": {},
   "outputs": [
    {
     "name": "stdout",
     "output_type": "stream",
     "text": [
      "Acccuracy: 66.8\n"
     ]
    }
   ],
   "source": [
    "# Mean normalization: MNIST - SVM\n",
    "# Load the MNIST image\n",
    "mnist = cv2.imread('../datasets/digits.png', 0)\n",
    "\n",
    "# Split the images by equal 50 x 100\n",
    "images = [np.hsplit(row, 100) for row in np.vsplit(mnist, 50)]\n",
    "images = np.array(images, dtype=np.float32)\n",
    "\n",
    "# Split the images into 50/50 train/test set\n",
    "train_features = images[:, :50].reshape(-1, (20 * 20))\n",
    "test_features = images[:, 50:100].reshape(-1, (20 * 20))\n",
    "\n",
    "# Mean normalization\n",
    "train_features -= np.mean(train_features, axis=0)\n",
    "test_features -= np.mean(train_features, axis=0)\n",
    "\n",
    "# Create labels\n",
    "k = np.arange(10)\n",
    "train_labels = np.repeat(k, 250).reshape(-1, 1)\n",
    "test_labels = train_labels.copy()\n",
    "\n",
    "# Create SVM model\n",
    "model = cv2.ml.SVM_create()\n",
    "model.setKernel(cv2.ml.SVM_LINEAR)\n",
    "model.setC(2.67)\n",
    "model.setGamma(5.383)\n",
    "model.setType(cv2.ml.SVM_C_SVC)\n",
    "\n",
    "# Train the model\n",
    "model.train(train_features, cv2.ml.ROW_SAMPLE, train_labels)\n",
    "\n",
    "# Use trained SVM\n",
    "result = model.predict(test_features)\n",
    "\n",
    "# print(result)\n",
    "# print(test_labels)\n",
    "\n",
    "# Measure model accuracy\n",
    "matches = np.equal(result[1], test_labels)\n",
    "\n",
    "# Convert boolean to int\n",
    "matches = matches.astype(np.int)\n",
    "\n",
    "# Count the correct predictions\n",
    "correct = np.count_nonzero(matches)\n",
    "\n",
    "# Calculate the accuracy\n",
    "accuracy = (correct * 100.0) / result[1].size\n",
    "\n",
    "# Print the accuracy\n",
    "print(\"Acccuracy: {}\".format(accuracy))"
   ]
  },
  {
   "cell_type": "code",
   "execution_count": 25,
   "metadata": {},
   "outputs": [
    {
     "name": "stdout",
     "output_type": "stream",
     "text": [
      "Acccuracy: 56.44444444444444\n"
     ]
    }
   ],
   "source": [
    "# Mean normalization: MNIST Fashion - SVM\n",
    "# Load the MNIST Fashion image\n",
    "fashion = cv2.imread('../datasets/fashion.png', 0)\n",
    "\n",
    "# Split the images by equal 30 x 30\n",
    "images = [np.hsplit(row, 30) for row in np.vsplit(fashion, 30)]\n",
    "images = np.array(images, dtype=np.float32)\n",
    "\n",
    "# Split the images into 50/50 train/test set\n",
    "train_features = images[:, :15].reshape(-1, (28 * 28))\n",
    "test_features = images[:, 15:30].reshape(-1, (28 * 28))\n",
    "\n",
    "# Mean normalization\n",
    "train_features -= np.mean(train_features, axis=0)\n",
    "test_features -= np.mean(train_features, axis=0)\n",
    "\n",
    "# Create labels\n",
    "k = np.arange(10)\n",
    "train_labels = np.repeat(k, 45).reshape(-1, 1)\n",
    "test_labels = train_labels.copy()\n",
    "\n",
    "# Create SVM model\n",
    "model = cv2.ml.SVM_create()\n",
    "model.setKernel(cv2.ml.SVM_LINEAR)\n",
    "model.setC(2.67)\n",
    "model.setGamma(5.383)\n",
    "model.setType(cv2.ml.SVM_C_SVC)\n",
    "\n",
    "# Train the model\n",
    "model.train(train_features, cv2.ml.ROW_SAMPLE, train_labels)\n",
    "\n",
    "# Use trained SVM\n",
    "result = model.predict(test_features)\n",
    "\n",
    "# Measure model accuracy\n",
    "matches = np.equal(result[1], test_labels)\n",
    "\n",
    "# Convert boolean to int\n",
    "matches = matches.astype(np.int)\n",
    "\n",
    "# Count the correct predictions\n",
    "correct = np.count_nonzero(matches)\n",
    "\n",
    "# Calculate the accuracy\n",
    "accuracy = (correct * 100.0) / result[1].size\n",
    "\n",
    "# Print the accuracy\n",
    "print(\"Acccuracy: {}\".format(accuracy))"
   ]
  },
  {
   "cell_type": "markdown",
   "metadata": {},
   "source": [
    "# PCA\n",
    "1. From a given line, get the perpendicular distance from each points\n",
    "2. Get the maximum distance (?)"
   ]
  },
  {
   "cell_type": "code",
   "execution_count": 55,
   "metadata": {
    "collapsed": true
   },
   "outputs": [],
   "source": [
    "# PCA\n",
    "from sklearn.decomposition import PCA\n",
    "\n",
    "pca = PCA(n_components=100)"
   ]
  },
  {
   "cell_type": "code",
   "execution_count": 56,
   "metadata": {},
   "outputs": [
    {
     "name": "stdout",
     "output_type": "stream",
     "text": [
      "Acccuracy: 92.44\n"
     ]
    }
   ],
   "source": [
    "# PCA: MNIST - kNN\n",
    "# Load the MNIST image\n",
    "mnist = cv2.imread('../datasets/digits.png', 0)\n",
    "\n",
    "# Split the images by equal 50 x 100\n",
    "images = [np.hsplit(row, 100) for row in np.vsplit(mnist, 50)]\n",
    "images = np.array(images, dtype=np.float32)\n",
    "\n",
    "# Split the images into 50/50 train/test set\n",
    "train_features = images[:, :50].reshape(-1, (20 * 20))\n",
    "test_features = images[:, 50:100].reshape(-1, (20 * 20))\n",
    "\n",
    "# Apply PCA\n",
    "pca.fit(train_features)\n",
    "train_features = pca.transform(train_features)\n",
    "test_features = pca.transform(test_features)\n",
    "\n",
    "# Create labels\n",
    "k = np.arange(10)\n",
    "train_labels = np.repeat(k, 250).reshape(-1, 1)\n",
    "test_labels = train_labels.copy()\n",
    "\n",
    "# Create kNN model\n",
    "knn = cv2.ml.KNearest_create()\n",
    "knn.train(train_features, cv2.ml.ROW_SAMPLE, train_labels)\n",
    "\n",
    "# Classify test results, use k = 3\n",
    "ret, result, neighbors, dist = knn.findNearest(test_features, 3)\n",
    "\n",
    "# Measure model accuracy\n",
    "matches = np.equal(result, test_labels)\n",
    "\n",
    "# Convert boolean to int\n",
    "matches = matches.astype(np.int)\n",
    "\n",
    "# Count the correct predictions\n",
    "correct = np.count_nonzero(matches)\n",
    "\n",
    "# Calculate the accuracy\n",
    "accuracy = (correct * 100.0) / result.size\n",
    "\n",
    "# Print the accuracy\n",
    "print(\"Acccuracy: {}\".format(accuracy))"
   ]
  },
  {
   "cell_type": "code",
   "execution_count": 51,
   "metadata": {},
   "outputs": [
    {
     "data": {
      "image/png": "[encoded data removed]",
      "text/plain": [
       "<matplotlib.figure.Figure at 0x1d4c5a16c18>"
      ]
     },
     "metadata": {},
     "output_type": "display_data"
    }
   ],
   "source": [
    "plt.plot(np.cumsum(pca.explained_variance_ratio_))\n",
    "plt.xlabel('Number of components')\n",
    "plt.ylabel('Cumulative explained variance')\n",
    "plt.show()"
   ]
  },
  {
   "cell_type": "code",
   "execution_count": 57,
   "metadata": {},
   "outputs": [
    {
     "name": "stdout",
     "output_type": "stream",
     "text": [
      "Acccuracy: 71.11111111111111\n"
     ]
    }
   ],
   "source": [
    "# PCA: MNIST Fashion - kNN\n",
    "# Load the MNIST Fashion image\n",
    "fashion = cv2.imread('../datasets/fashion.png', 0)\n",
    "\n",
    "# Split the images by equal 30 x 30\n",
    "images = [np.hsplit(row, 30) for row in np.vsplit(fashion, 30)]\n",
    "images = np.array(images, dtype=np.float32)\n",
    "\n",
    "# Split the images into 50/50 train/test set\n",
    "train_features = images[:, :15].reshape(-1, (28 * 28))\n",
    "test_features = images[:, 15:30].reshape(-1, (28 * 28))\n",
    "\n",
    "# Apply PCA\n",
    "pca.fit(train_features)\n",
    "train_features = pca.transform(train_features)\n",
    "test_features = pca.transform(test_features)\n",
    "\n",
    "# Create labels\n",
    "k = np.arange(10)\n",
    "train_labels = np.repeat(k, 45).reshape(-1, 1)\n",
    "test_labels = train_labels.copy()\n",
    "\n",
    "# Create kNN model\n",
    "knn = cv2.ml.KNearest_create()\n",
    "knn.train(train_features, cv2.ml.ROW_SAMPLE, train_labels)\n",
    "\n",
    "# Classify test results, use k = 2\n",
    "ret, result, neighbors, dist = knn.findNearest(test_features, 3)\n",
    "\n",
    "# Measure model accuracy\n",
    "matches = np.equal(result, test_labels)\n",
    "\n",
    "# Convert boolean to int\n",
    "matches = matches.astype(np.int)\n",
    "\n",
    "# Count the correct predictions\n",
    "correct = np.count_nonzero(matches)\n",
    "\n",
    "# Calculate the accuracy\n",
    "accuracy = (correct * 100.0) / result.size\n",
    "\n",
    "# Print the accuracy\n",
    "print(\"Acccuracy: {}\".format(accuracy))"
   ]
  },
  {
   "cell_type": "code",
   "execution_count": 58,
   "metadata": {},
   "outputs": [
    {
     "name": "stdout",
     "output_type": "stream",
     "text": [
      "Acccuracy: 89.56\n"
     ]
    }
   ],
   "source": [
    "# PCA: MNIST - SVM\n",
    "# Load the MNIST image\n",
    "mnist = cv2.imread('../datasets/digits.png', 0)\n",
    "\n",
    "# Split the images by equal 50 x 100\n",
    "images = [np.hsplit(row, 100) for row in np.vsplit(mnist, 50)]\n",
    "images = np.array(images, dtype=np.float32)\n",
    "\n",
    "# Split the images into 50/50 train/test set\n",
    "train_features = images[:, :50].reshape(-1, (20 * 20))\n",
    "test_features = images[:, 50:100].reshape(-1, (20 * 20))\n",
    "\n",
    "# Apply PCA\n",
    "pca.fit(train_features)\n",
    "train_features = pca.transform(train_features)\n",
    "test_features = pca.transform(test_features)\n",
    "\n",
    "# Create labels\n",
    "k = np.arange(10)\n",
    "train_labels = np.repeat(k, 250).reshape(-1, 1)\n",
    "test_labels = train_labels.copy()\n",
    "\n",
    "# Create SVM model\n",
    "model = cv2.ml.SVM_create()\n",
    "model.setKernel(cv2.ml.SVM_LINEAR)\n",
    "model.setC(2.67)\n",
    "model.setGamma(5.383)\n",
    "model.setType(cv2.ml.SVM_C_SVC)\n",
    "\n",
    "# Train the model\n",
    "model.train(train_features, cv2.ml.ROW_SAMPLE, train_labels)\n",
    "\n",
    "# Use trained SVM\n",
    "result = model.predict(test_features)\n",
    "\n",
    "# print(result)\n",
    "# print(test_labels)\n",
    "\n",
    "# Measure model accuracy\n",
    "matches = np.equal(result[1], test_labels)\n",
    "\n",
    "# Convert boolean to int\n",
    "matches = matches.astype(np.int)\n",
    "\n",
    "# Count the correct predictions\n",
    "correct = np.count_nonzero(matches)\n",
    "\n",
    "# Calculate the accuracy\n",
    "accuracy = (correct * 100.0) / result[1].size\n",
    "\n",
    "# Print the accuracy\n",
    "print(\"Acccuracy: {}\".format(accuracy))"
   ]
  },
  {
   "cell_type": "code",
   "execution_count": 74,
   "metadata": {},
   "outputs": [
    {
     "name": "stdout",
     "output_type": "stream",
     "text": [
      "Acccuracy: 72.44444444444444\n"
     ]
    }
   ],
   "source": [
    "# PCA: MNIST Fashion - SVM\n",
    "# Load the MNIST Fashion image\n",
    "fashion = cv2.imread('../datasets/fashion.png', 0)\n",
    "\n",
    "# Split the images by equal 30 x 30\n",
    "images = [np.hsplit(row, 30) for row in np.vsplit(fashion, 30)]\n",
    "images = np.array(images, dtype=np.float32)\n",
    "\n",
    "# Split the images into 50/50 train/test set\n",
    "train_features = images[:, :15].reshape(-1, (28 * 28))\n",
    "test_features = images[:, 15:30].reshape(-1, (28 * 28))\n",
    "\n",
    "# Apply PCA\n",
    "pca.fit(train_features)\n",
    "train_features = pca.transform(train_features)\n",
    "test_features = pca.transform(test_features)\n",
    "\n",
    "# Create labels\n",
    "k = np.arange(10)\n",
    "train_labels = np.repeat(k, 45).reshape(-1, 1)\n",
    "test_labels = train_labels.copy()\n",
    "\n",
    "# Create SVM model\n",
    "model = cv2.ml.SVM_create()\n",
    "model.setKernel(cv2.ml.SVM_LINEAR)\n",
    "model.setC(2.67)\n",
    "model.setGamma(5.383)\n",
    "model.setType(cv2.ml.SVM_C_SVC)\n",
    "\n",
    "# Train the model\n",
    "model.train(train_features, cv2.ml.ROW_SAMPLE, train_labels)\n",
    "\n",
    "# Use trained SVM\n",
    "result = model.predict(test_features)\n",
    "\n",
    "# Measure model accuracy\n",
    "matches = np.equal(result[1], test_labels)\n",
    "\n",
    "# Convert boolean to int\n",
    "matches = matches.astype(np.int)\n",
    "\n",
    "# Count the correct predictions\n",
    "correct = np.count_nonzero(matches)\n",
    "\n",
    "# Calculate the accuracy\n",
    "accuracy = (correct * 100.0) / result[1].size\n",
    "\n",
    "# Print the accuracy\n",
    "print(\"Acccuracy: {}\".format(accuracy))"
   ]
  },
  {
   "cell_type": "code",
   "execution_count": null,
   "metadata": {
    "collapsed": true
   },
   "outputs": [],
   "source": []
  }
 ],
 "metadata": {
  "kernelspec": {
   "display_name": "Python 3",
   "language": "python",
   "name": "python3"
  },
  "language_info": {
   "codemirror_mode": {
    "name": "ipython",
    "version": 3
   },
   "file_extension": ".py",
   "mimetype": "text/x-python",
   "name": "python",
   "nbconvert_exporter": "python",
   "pygments_lexer": "ipython3",
   "version": "3.6.3"
  }
 },
 "nbformat": 4,
 "nbformat_minor": 2
}
